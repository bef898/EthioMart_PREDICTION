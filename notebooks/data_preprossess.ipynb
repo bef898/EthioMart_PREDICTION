{
 "cells": [
  {
   "cell_type": "markdown",
   "metadata": {},
   "source": [
    "fo better GPU usage i used colab [link](https://colab.research.google.com/drive/1zhtkDq6jpEdlWzEx3LRgVI6fKogajG9I?usp=sharing)"
   ]
  }
 ],
 "metadata": {
  "language_info": {
   "name": "python"
  }
 },
 "nbformat": 4,
 "nbformat_minor": 2
}
